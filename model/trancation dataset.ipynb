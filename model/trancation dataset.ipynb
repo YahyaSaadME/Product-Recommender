{
 "cells": [
  {
   "cell_type": "code",
   "execution_count": 1,
   "metadata": {},
   "outputs": [],
   "source": [
    "import pandas as pd\n",
    "import numpy as np"
   ]
  },
  {
   "cell_type": "code",
   "execution_count": null,
   "metadata": {},
   "outputs": [],
   "source": [
    "{\n",
    "  \"status\": \"success\",\n",
    "  \"transactionId\": \"PhonePe789012\",\n",
    "  \"amount\": 75.25,\n",
    "  \"currency\": \"INR\",\n",
    "  \"timestamp\": \"2024-03-15T14:20:00Z\",\n",
    "  \"orderId\": \"order_456\",\n",
    "  \"customerName\": \"Michael Brown\",\n",
    "  \"message\": \"Payment successful.\"\n",
    "}"
   ]
  },
  {
   "cell_type": "code",
   "execution_count": null,
   "metadata": {},
   "outputs": [],
   "source": [
    "def find_y(df):\n",
    "    Ms = df['Monthly savings']\n",
    "    Ts = df['Total savings']\n",
    "    price = df['Price']\n",
    "    essential = df['Essentail']\n",
    "    \n",
    "    if essential==1:\n",
    "        if Ts>price:\n",
    "            return 0\n",
    "        elif Ts<=price:\n",
    "            if Ms+Ts>price:\n",
    "                return 0\n",
    "            elif price-Ts<=Ms*.5:\n",
    "                return 1\n",
    "            elif price-Ts<=Ms*.3:\n",
    "                return 1\n",
    "            else:\n",
    "                return 2\n",
    "            \n",
    "    elif essential==0:\n",
    "        if Ts>price:\n",
    "            return 0\n",
    "        elif Ms+Ts>price:\n",
    "                return 0\n",
    "        elif Ts<=price:\n",
    "            return 2    "
   ]
  }
 ],
 "metadata": {
  "kernelspec": {
   "display_name": "base",
   "language": "python",
   "name": "python3"
  },
  "language_info": {
   "codemirror_mode": {
    "name": "ipython",
    "version": 3
   },
   "file_extension": ".py",
   "mimetype": "text/x-python",
   "name": "python",
   "nbconvert_exporter": "python",
   "pygments_lexer": "ipython3",
   "version": "3.11.5"
  }
 },
 "nbformat": 4,
 "nbformat_minor": 2
}
