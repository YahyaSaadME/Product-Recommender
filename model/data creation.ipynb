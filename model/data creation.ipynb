{
 "cells": [
  {
   "cell_type": "code",
   "execution_count": 1,
   "metadata": {},
   "outputs": [],
   "source": [
    "import pandas as pd\n",
    "import numpy as np"
   ]
  },
  {
   "cell_type": "markdown",
   "metadata": {},
   "source": [
    "0 = Down payment            as DP<br/>\n",
    "1 = Down payment + EMI      as DP + EMI<br/>\n",
    "2 = EMI                     as EMI"
   ]
  },
  {
   "cell_type": "code",
   "execution_count": 211,
   "metadata": {},
   "outputs": [],
   "source": [
    "def find_y(df):\n",
    "    Ms = df['Monthly savings']\n",
    "    Ts = df['Total savings']\n",
    "    price = df['Price']\n",
    "    essential = df['Essentail']\n",
    "    \n",
    "    if essential==1:\n",
    "        if Ts>price:\n",
    "            return 0\n",
    "        elif Ts<=price:\n",
    "            if Ms+Ts>price:\n",
    "                return 0\n",
    "            elif price-Ts<=Ms*.5:\n",
    "                return 1\n",
    "            elif price-Ts<=Ms*.3:\n",
    "                return 1\n",
    "            else:\n",
    "                return 2\n",
    "            \n",
    "    elif essential==0:\n",
    "        if Ts>price:\n",
    "            return 0\n",
    "        elif Ms+Ts>price:\n",
    "                return 0\n",
    "        elif Ts<=price:\n",
    "            return 2    "
   ]
  },
  {
   "cell_type": "code",
   "execution_count": 64,
   "metadata": {},
   "outputs": [],
   "source": [
    "np.random.seed(1024)"
   ]
  },
  {
   "cell_type": "code",
   "execution_count": 139,
   "metadata": {},
   "outputs": [],
   "source": [
    "#income\n",
    "income = np.random.randint(100,1000000,500000)"
   ]
  },
  {
   "cell_type": "code",
   "execution_count": 140,
   "metadata": {},
   "outputs": [],
   "source": [
    "#Monthly savings income's 20% \n",
    "Ms = np.random.randint(100,200000,500000)"
   ]
  },
  {
   "cell_type": "code",
   "execution_count": 141,
   "metadata": {},
   "outputs": [],
   "source": [
    "#Total savings Monthly savings's 5x \n",
    "Ts = np.random.randint(100,1000000,500000)"
   ]
  },
  {
   "cell_type": "code",
   "execution_count": 142,
   "metadata": {},
   "outputs": [],
   "source": [
    "ess = np.random.randint(0,2,500000)"
   ]
  },
  {
   "cell_type": "code",
   "execution_count": 143,
   "metadata": {},
   "outputs": [],
   "source": [
    "# Price\n",
    "price = np.random.randint(0,2,500000)"
   ]
  },
  {
   "cell_type": "code",
   "execution_count": 151,
   "metadata": {},
   "outputs": [],
   "source": [
    "df = pd.DataFrame({\n",
    "    \"income\":income,\n",
    "    \"Monthly savings\":Ms,\n",
    "    \"Total savings\":Ts,\n",
    "    \"Essentail\":ess,\n",
    "    \"Price\":price\n",
    "})"
   ]
  },
  {
   "cell_type": "code",
   "execution_count": 157,
   "metadata": {},
   "outputs": [
    {
     "data": {
      "text/plain": [
       "income             390648\n",
       "Monthly savings    148996\n",
       "Total savings      906346\n",
       "Essentail               0\n",
       "Price                   1\n",
       "Name: 0, dtype: int32"
      ]
     },
     "execution_count": 157,
     "metadata": {},
     "output_type": "execute_result"
    }
   ],
   "source": [
    "df.loc[0]"
   ]
  },
  {
   "cell_type": "code",
   "execution_count": 198,
   "metadata": {},
   "outputs": [
    {
     "name": "stdout",
     "output_type": "stream",
     "text": [
      "income             390648\n",
      "Monthly savings    148996\n",
      "Total savings      906346\n",
      "Essentail               0\n",
      "Price                   1\n",
      "Output                  0\n",
      "Name: 0, dtype: int64\n"
     ]
    }
   ],
   "source": [
    "print(df.loc[0])"
   ]
  },
  {
   "cell_type": "code",
   "execution_count": 212,
   "metadata": {},
   "outputs": [],
   "source": [
    "df['Output'] = df.apply(find_y,axis=1)"
   ]
  },
  {
   "cell_type": "code",
   "execution_count": 225,
   "metadata": {},
   "outputs": [
    {
     "data": {
      "text/plain": [
       "Output\n",
       "0    500000\n",
       "Name: count, dtype: int64"
      ]
     },
     "execution_count": 225,
     "metadata": {},
     "output_type": "execute_result"
    }
   ],
   "source": [
    "df['Output'].value_counts()"
   ]
  },
  {
   "cell_type": "code",
   "execution_count": 2,
   "metadata": {},
   "outputs": [],
   "source": [
    "df = pd.read_csv(\"./data/data.csv\")"
   ]
  },
  {
   "cell_type": "code",
   "execution_count": 3,
   "metadata": {},
   "outputs": [
    {
     "data": {
      "text/html": [
       "<div>\n",
       "<style scoped>\n",
       "    .dataframe tbody tr th:only-of-type {\n",
       "        vertical-align: middle;\n",
       "    }\n",
       "\n",
       "    .dataframe tbody tr th {\n",
       "        vertical-align: top;\n",
       "    }\n",
       "\n",
       "    .dataframe thead th {\n",
       "        text-align: right;\n",
       "    }\n",
       "</style>\n",
       "<table border=\"1\" class=\"dataframe\">\n",
       "  <thead>\n",
       "    <tr style=\"text-align: right;\">\n",
       "      <th></th>\n",
       "      <th>Unnamed: 0</th>\n",
       "      <th>income</th>\n",
       "      <th>Total savings</th>\n",
       "      <th>Price</th>\n",
       "      <th>Monthly savings</th>\n",
       "      <th>Output</th>\n",
       "      <th>Essentail</th>\n",
       "    </tr>\n",
       "  </thead>\n",
       "  <tbody>\n",
       "    <tr>\n",
       "      <th>0</th>\n",
       "      <td>0</td>\n",
       "      <td>399700</td>\n",
       "      <td>70300</td>\n",
       "      <td>1300</td>\n",
       "      <td>66600</td>\n",
       "      <td>0</td>\n",
       "      <td>0</td>\n",
       "    </tr>\n",
       "    <tr>\n",
       "      <th>1</th>\n",
       "      <td>1</td>\n",
       "      <td>232700</td>\n",
       "      <td>191900</td>\n",
       "      <td>82300</td>\n",
       "      <td>33200</td>\n",
       "      <td>1</td>\n",
       "      <td>0</td>\n",
       "    </tr>\n",
       "    <tr>\n",
       "      <th>2</th>\n",
       "      <td>2</td>\n",
       "      <td>936800</td>\n",
       "      <td>552600</td>\n",
       "      <td>8700</td>\n",
       "      <td>187400</td>\n",
       "      <td>0</td>\n",
       "      <td>0</td>\n",
       "    </tr>\n",
       "    <tr>\n",
       "      <th>3</th>\n",
       "      <td>3</td>\n",
       "      <td>793000</td>\n",
       "      <td>339500</td>\n",
       "      <td>64700</td>\n",
       "      <td>113300</td>\n",
       "      <td>1</td>\n",
       "      <td>0</td>\n",
       "    </tr>\n",
       "    <tr>\n",
       "      <th>4</th>\n",
       "      <td>4</td>\n",
       "      <td>1529700</td>\n",
       "      <td>326000</td>\n",
       "      <td>53300</td>\n",
       "      <td>191200</td>\n",
       "      <td>1</td>\n",
       "      <td>0</td>\n",
       "    </tr>\n",
       "  </tbody>\n",
       "</table>\n",
       "</div>"
      ],
      "text/plain": [
       "   Unnamed: 0   income  Total savings  Price  Monthly savings  Output  \\\n",
       "0           0   399700          70300   1300            66600       0   \n",
       "1           1   232700         191900  82300            33200       1   \n",
       "2           2   936800         552600   8700           187400       0   \n",
       "3           3   793000         339500  64700           113300       1   \n",
       "4           4  1529700         326000  53300           191200       1   \n",
       "\n",
       "   Essentail  \n",
       "0          0  \n",
       "1          0  \n",
       "2          0  \n",
       "3          0  \n",
       "4          0  "
      ]
     },
     "execution_count": 3,
     "metadata": {},
     "output_type": "execute_result"
    }
   ],
   "source": [
    "df.head()"
   ]
  },
  {
   "cell_type": "code",
   "execution_count": 6,
   "metadata": {},
   "outputs": [],
   "source": [
    "df.drop(columns=['Unnamed: 0'],inplace=True)"
   ]
  },
  {
   "cell_type": "code",
   "execution_count": 7,
   "metadata": {},
   "outputs": [
    {
     "data": {
      "text/plain": [
       "8.333333333333334"
      ]
     },
     "execution_count": 7,
     "metadata": {},
     "output_type": "execute_result"
    }
   ],
   "source": [
    "25/3"
   ]
  },
  {
   "cell_type": "code",
   "execution_count": 35,
   "metadata": {},
   "outputs": [],
   "source": [
    "df_0 = df[df['Output']==0].sample(int(df[df['Output']==0].shape[0]/4))"
   ]
  },
  {
   "cell_type": "code",
   "execution_count": 26,
   "metadata": {},
   "outputs": [
    {
     "data": {
      "text/plain": [
       "238256"
      ]
     },
     "execution_count": 26,
     "metadata": {},
     "output_type": "execute_result"
    }
   ],
   "source": [
    "df[df['Output']==1].shape[0]"
   ]
  },
  {
   "cell_type": "code",
   "execution_count": 36,
   "metadata": {},
   "outputs": [],
   "source": [
    "df_1 = df[df['Output']==1].sample(int(df[df['Output']==1].shape[0]/4))"
   ]
  },
  {
   "cell_type": "code",
   "execution_count": 27,
   "metadata": {},
   "outputs": [
    {
     "data": {
      "text/plain": [
       "123608"
      ]
     },
     "execution_count": 27,
     "metadata": {},
     "output_type": "execute_result"
    }
   ],
   "source": [
    "df[df['Output']==2].shape[0]"
   ]
  },
  {
   "cell_type": "code",
   "execution_count": 37,
   "metadata": {},
   "outputs": [],
   "source": [
    "df_2 = df[df['Output']==2].sample(int(df[df['Output']==2].shape[0]/4))"
   ]
  },
  {
   "cell_type": "markdown",
   "metadata": {},
   "source": [
    "0 to 1 | 1 to 2 | 2 to 0"
   ]
  },
  {
   "cell_type": "code",
   "execution_count": 40,
   "metadata": {},
   "outputs": [],
   "source": [
    "df_0['Output']=1\n",
    "df_1['Output']=2\n",
    "df_2['Output']=0"
   ]
  },
  {
   "cell_type": "code",
   "execution_count": 41,
   "metadata": {},
   "outputs": [],
   "source": [
    "df = pd.concat([df,df_0,df_1,df_2])"
   ]
  },
  {
   "cell_type": "code",
   "execution_count": 43,
   "metadata": {},
   "outputs": [
    {
     "data": {
      "text/html": [
       "<div>\n",
       "<style scoped>\n",
       "    .dataframe tbody tr th:only-of-type {\n",
       "        vertical-align: middle;\n",
       "    }\n",
       "\n",
       "    .dataframe tbody tr th {\n",
       "        vertical-align: top;\n",
       "    }\n",
       "\n",
       "    .dataframe thead th {\n",
       "        text-align: right;\n",
       "    }\n",
       "</style>\n",
       "<table border=\"1\" class=\"dataframe\">\n",
       "  <thead>\n",
       "    <tr style=\"text-align: right;\">\n",
       "      <th></th>\n",
       "      <th>income</th>\n",
       "      <th>Total savings</th>\n",
       "      <th>Price</th>\n",
       "      <th>Monthly savings</th>\n",
       "      <th>Output</th>\n",
       "      <th>Essentail</th>\n",
       "    </tr>\n",
       "  </thead>\n",
       "  <tbody>\n",
       "    <tr>\n",
       "      <th>0</th>\n",
       "      <td>399700</td>\n",
       "      <td>70300</td>\n",
       "      <td>1300</td>\n",
       "      <td>66600</td>\n",
       "      <td>0</td>\n",
       "      <td>0</td>\n",
       "    </tr>\n",
       "    <tr>\n",
       "      <th>1</th>\n",
       "      <td>232700</td>\n",
       "      <td>191900</td>\n",
       "      <td>82300</td>\n",
       "      <td>33200</td>\n",
       "      <td>1</td>\n",
       "      <td>0</td>\n",
       "    </tr>\n",
       "    <tr>\n",
       "      <th>2</th>\n",
       "      <td>936800</td>\n",
       "      <td>552600</td>\n",
       "      <td>8700</td>\n",
       "      <td>187400</td>\n",
       "      <td>0</td>\n",
       "      <td>0</td>\n",
       "    </tr>\n",
       "    <tr>\n",
       "      <th>3</th>\n",
       "      <td>793000</td>\n",
       "      <td>339500</td>\n",
       "      <td>64700</td>\n",
       "      <td>113300</td>\n",
       "      <td>1</td>\n",
       "      <td>0</td>\n",
       "    </tr>\n",
       "    <tr>\n",
       "      <th>4</th>\n",
       "      <td>1529700</td>\n",
       "      <td>326000</td>\n",
       "      <td>53300</td>\n",
       "      <td>191200</td>\n",
       "      <td>1</td>\n",
       "      <td>0</td>\n",
       "    </tr>\n",
       "    <tr>\n",
       "      <th>...</th>\n",
       "      <td>...</td>\n",
       "      <td>...</td>\n",
       "      <td>...</td>\n",
       "      <td>...</td>\n",
       "      <td>...</td>\n",
       "      <td>...</td>\n",
       "    </tr>\n",
       "    <tr>\n",
       "      <th>560241</th>\n",
       "      <td>73500</td>\n",
       "      <td>66600</td>\n",
       "      <td>38800</td>\n",
       "      <td>9500</td>\n",
       "      <td>0</td>\n",
       "      <td>0</td>\n",
       "    </tr>\n",
       "    <tr>\n",
       "      <th>523713</th>\n",
       "      <td>1180700</td>\n",
       "      <td>54400</td>\n",
       "      <td>38700</td>\n",
       "      <td>167700</td>\n",
       "      <td>0</td>\n",
       "      <td>0</td>\n",
       "    </tr>\n",
       "    <tr>\n",
       "      <th>96556</th>\n",
       "      <td>78900</td>\n",
       "      <td>59600</td>\n",
       "      <td>36900</td>\n",
       "      <td>15800</td>\n",
       "      <td>0</td>\n",
       "      <td>0</td>\n",
       "    </tr>\n",
       "    <tr>\n",
       "      <th>357382</th>\n",
       "      <td>626200</td>\n",
       "      <td>29300</td>\n",
       "      <td>27800</td>\n",
       "      <td>89400</td>\n",
       "      <td>0</td>\n",
       "      <td>0</td>\n",
       "    </tr>\n",
       "    <tr>\n",
       "      <th>529734</th>\n",
       "      <td>22200</td>\n",
       "      <td>59900</td>\n",
       "      <td>48900</td>\n",
       "      <td>3500</td>\n",
       "      <td>0</td>\n",
       "      <td>0</td>\n",
       "    </tr>\n",
       "  </tbody>\n",
       "</table>\n",
       "<p>702255 rows × 6 columns</p>\n",
       "</div>"
      ],
      "text/plain": [
       "         income  Total savings  Price  Monthly savings  Output  Essentail\n",
       "0        399700          70300   1300            66600       0          0\n",
       "1        232700         191900  82300            33200       1          0\n",
       "2        936800         552600   8700           187400       0          0\n",
       "3        793000         339500  64700           113300       1          0\n",
       "4       1529700         326000  53300           191200       1          0\n",
       "...         ...            ...    ...              ...     ...        ...\n",
       "560241    73500          66600  38800             9500       0          0\n",
       "523713  1180700          54400  38700           167700       0          0\n",
       "96556     78900          59600  36900            15800       0          0\n",
       "357382   626200          29300  27800            89400       0          0\n",
       "529734    22200          59900  48900             3500       0          0\n",
       "\n",
       "[702255 rows x 6 columns]"
      ]
     },
     "execution_count": 43,
     "metadata": {},
     "output_type": "execute_result"
    }
   ],
   "source": [
    "df"
   ]
  },
  {
   "cell_type": "code",
   "execution_count": 42,
   "metadata": {},
   "outputs": [],
   "source": [
    "df.to_csv(\"./data/data.csv\")"
   ]
  }
 ],
 "metadata": {
  "kernelspec": {
   "display_name": "base",
   "language": "python",
   "name": "python3"
  },
  "language_info": {
   "codemirror_mode": {
    "name": "ipython",
    "version": 3
   },
   "file_extension": ".py",
   "mimetype": "text/x-python",
   "name": "python",
   "nbconvert_exporter": "python",
   "pygments_lexer": "ipython3",
   "version": "3.11.5"
  }
 },
 "nbformat": 4,
 "nbformat_minor": 2
}
